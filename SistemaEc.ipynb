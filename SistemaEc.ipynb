{
  "nbformat": 4,
  "nbformat_minor": 0,
  "metadata": {
    "colab": {
      "name": "SistemaEc.ipynb",
      "provenance": [],
      "collapsed_sections": []
    },
    "kernelspec": {
      "name": "python3",
      "display_name": "Python 3"
    }
  },
  "cells": [
    {
      "cell_type": "code",
      "metadata": {
        "colab": {
          "base_uri": "https://localhost:8080/",
          "height": 1000
        },
        "id": "xCquxl7Zm2CN",
        "outputId": "dea3fddc-4660-4409-866d-d54b7aec49c8"
      },
      "source": [
        "#Tarea1-Tercer Parcial-Reyes Mitznahuatl Brandon Jesus\r\n",
        "\r\n",
        "import matplotlib.pyplot as plt\r\n",
        "import math\r\n",
        "def sistemaEc():\r\n",
        "  x1=[0]\r\n",
        "  x=0\r\n",
        "  y1=[0]\r\n",
        "  y=0\r\n",
        "  z1=[0]\r\n",
        "  z=0\r\n",
        "  w1=[0]\r\n",
        "  w=0\r\n",
        "  limit=0\r\n",
        "\r\n",
        "  def x2(y):\r\n",
        "    return  0.25+0.25*y\r\n",
        "  def y2(x,z):\r\n",
        "    return  0.25+0.25*x+0.25*z\r\n",
        "  def z2(y,w):\r\n",
        "    return  0.25+0.25*y+0.25*w\r\n",
        "  def w2(z):\r\n",
        "    return  0.25+0.25*z\r\n",
        "\r\n",
        "  while(limit < 10):\r\n",
        "    e1 = x2(y)\r\n",
        "    x1.append(e1)\r\n",
        "    e2 = y2(x,z)\r\n",
        "    y1.append(e2)\r\n",
        "    e3 = z2(y,w)\r\n",
        "    z1.append(e3)\r\n",
        "    e4 = w2(z)\r\n",
        "    w1.append(e4)\r\n",
        "    x=e1 \r\n",
        "    y=e2 \r\n",
        "    z=e3\r\n",
        "    w=e4\r\n",
        "    limit+=1\r\n",
        "  \r\n",
        "  for x in x1:\r\n",
        "      print(\"Iteraciones X: \", x)\r\n",
        "  for y in y1:\r\n",
        "      print(\"Iteraciones y: \", y)\r\n",
        "  for z in z1:\r\n",
        "      print(\"Iteraciones z: \", z)\r\n",
        "  for w in w1:\r\n",
        "      print(\"Iteraciones w: \", w)\r\n",
        "\r\n",
        "  plt.plot(x1, label=\"x\")\r\n",
        "  plt.plot(y1, label=\"y\")\r\n",
        "  plt.plot(z1, label=\"z\")\r\n",
        "  plt.plot(w1, label=\"w\")\r\n",
        "  plt.legend()\r\n",
        "  plt.show()\r\n",
        "\r\n",
        "sistemaEc()"
      ],
      "execution_count": 124,
      "outputs": [
        {
          "output_type": "stream",
          "text": [
            "Iteraciones X:  0\n",
            "Iteraciones X:  0.25\n",
            "Iteraciones X:  0.3125\n",
            "Iteraciones X:  0.34375\n",
            "Iteraciones X:  0.35546875\n",
            "Iteraciones X:  0.3603515625\n",
            "Iteraciones X:  0.3623046875\n",
            "Iteraciones X:  0.36309814453125\n",
            "Iteraciones X:  0.3634185791015625\n",
            "Iteraciones X:  0.36354827880859375\n",
            "Iteraciones X:  0.3636007308959961\n",
            "Iteraciones y:  0\n",
            "Iteraciones y:  0.25\n",
            "Iteraciones y:  0.375\n",
            "Iteraciones y:  0.421875\n",
            "Iteraciones y:  0.44140625\n",
            "Iteraciones y:  0.44921875\n",
            "Iteraciones y:  0.452392578125\n",
            "Iteraciones y:  0.45367431640625\n",
            "Iteraciones y:  0.454193115234375\n",
            "Iteraciones y:  0.4544029235839844\n",
            "Iteraciones y:  0.45448780059814453\n",
            "Iteraciones z:  0\n",
            "Iteraciones z:  0.25\n",
            "Iteraciones z:  0.375\n",
            "Iteraciones z:  0.421875\n",
            "Iteraciones z:  0.44140625\n",
            "Iteraciones z:  0.44921875\n",
            "Iteraciones z:  0.452392578125\n",
            "Iteraciones z:  0.45367431640625\n",
            "Iteraciones z:  0.454193115234375\n",
            "Iteraciones z:  0.4544029235839844\n",
            "Iteraciones z:  0.45448780059814453\n",
            "Iteraciones w:  0\n",
            "Iteraciones w:  0.25\n",
            "Iteraciones w:  0.3125\n",
            "Iteraciones w:  0.34375\n",
            "Iteraciones w:  0.35546875\n",
            "Iteraciones w:  0.3603515625\n",
            "Iteraciones w:  0.3623046875\n",
            "Iteraciones w:  0.36309814453125\n",
            "Iteraciones w:  0.3634185791015625\n",
            "Iteraciones w:  0.36354827880859375\n",
            "Iteraciones w:  0.3636007308959961\n"
          ],
          "name": "stdout"
        },
        {
          "output_type": "display_data",
          "data": {
            "image/png": "[encoded data removed]",
            "text/plain": [
              "<Figure size 432x288 with 1 Axes>"
            ]
          },
          "metadata": {
            "tags": [],
            "needs_background": "light"
          }
        }
      ]
    }
  ]
}